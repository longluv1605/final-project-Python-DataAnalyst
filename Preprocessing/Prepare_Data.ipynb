{
 "cells": [
  {
   "cell_type": "code",
   "execution_count": 80,
   "metadata": {},
   "outputs": [],
   "source": [
    "import pandas as pd\n",
    "import numpy as np\n",
    "import ast"
   ]
  },
  {
   "cell_type": "code",
   "execution_count": 81,
   "metadata": {},
   "outputs": [],
   "source": [
    "comments = np.load('../Data/Raw/ClashOfClans_Comments.npy', allow_pickle=True)\n",
    "reactions = pd.read_csv('../Data/Fixed/ClashOfClans_Reactions_Fixed.csv')\n",
    "reactors = pd.read_csv('../Data/Fixed/ClashOfClans_Reactors_Fixed.csv')"
   ]
  },
  {
   "cell_type": "code",
   "execution_count": 82,
   "metadata": {},
   "outputs": [],
   "source": [
    "df = pd.DataFrame.from_records(comments)"
   ]
  },
  {
   "cell_type": "code",
   "execution_count": 83,
   "metadata": {},
   "outputs": [
    {
     "data": {
      "text/plain": [
       "Index(['post_id', 'text', 'post_text', 'shared_text', 'original_text', 'time',\n",
       "       'timestamp', 'image', 'image_lowquality', 'images',\n",
       "       'images_description', 'images_lowquality',\n",
       "       'images_lowquality_description', 'video', 'video_duration_seconds',\n",
       "       'video_height', 'video_id', 'video_quality', 'video_size_MB',\n",
       "       'video_thumbnail', 'video_watches', 'video_width', 'likes', 'comments',\n",
       "       'shares', 'post_url', 'link', 'links', 'user_id', 'username',\n",
       "       'user_url', 'is_live', 'factcheck', 'shared_post_id', 'shared_time',\n",
       "       'shared_user_id', 'shared_username', 'shared_post_url', 'available',\n",
       "       'comments_full', 'reactors', 'w3_fb_url', 'reactions', 'reaction_count',\n",
       "       'with', 'page_id', 'sharers', 'image_id', 'image_ids', 'was_live',\n",
       "       'video_ids', 'videos', 'header'],\n",
       "      dtype='object')"
      ]
     },
     "execution_count": 83,
     "metadata": {},
     "output_type": "execute_result"
    }
   ],
   "source": [
    "df.columns"
   ]
  },
  {
   "cell_type": "code",
   "execution_count": 84,
   "metadata": {},
   "outputs": [],
   "source": [
    "df['reactions'] = reactions['reactions']\n",
    "df['reactors'] = reactors['reactors']"
   ]
  },
  {
   "cell_type": "code",
   "execution_count": 85,
   "metadata": {},
   "outputs": [],
   "source": [
    "df = df[['post_id', 'time', 'timestamp', \n",
    "              'post_text', 'shares', 'comments', \n",
    "              'comments_full', 'reaction_count', 'reactions', 'reactors']]"
   ]
  },
  {
   "cell_type": "code",
   "execution_count": 86,
   "metadata": {},
   "outputs": [],
   "source": [
    "df = df.dropna(axis=0)"
   ]
  },
  {
   "cell_type": "code",
   "execution_count": 87,
   "metadata": {},
   "outputs": [],
   "source": [
    "df = df.drop(df.loc[df['comments_full'] == '[]', 'comments_full'].index)"
   ]
  },
  {
   "cell_type": "code",
   "execution_count": 88,
   "metadata": {},
   "outputs": [],
   "source": [
    "df['reactions'] = df['reactions'].apply(lambda x: ast.literal_eval(x))"
   ]
  },
  {
   "cell_type": "code",
   "execution_count": 89,
   "metadata": {},
   "outputs": [],
   "source": [
    "df['reactors'] = df['reactors'].apply(lambda x: ast.literal_eval(x))"
   ]
  },
  {
   "cell_type": "code",
   "execution_count": 90,
   "metadata": {},
   "outputs": [],
   "source": [
    "df.index = np.arange(0, len(df))"
   ]
  },
  {
   "cell_type": "code",
   "execution_count": 91,
   "metadata": {},
   "outputs": [
    {
     "data": {
      "text/html": [
       "<div>\n",
       "<style scoped>\n",
       "    .dataframe tbody tr th:only-of-type {\n",
       "        vertical-align: middle;\n",
       "    }\n",
       "\n",
       "    .dataframe tbody tr th {\n",
       "        vertical-align: top;\n",
       "    }\n",
       "\n",
       "    .dataframe thead th {\n",
       "        text-align: right;\n",
       "    }\n",
       "</style>\n",
       "<table border=\"1\" class=\"dataframe\">\n",
       "  <thead>\n",
       "    <tr style=\"text-align: right;\">\n",
       "      <th></th>\n",
       "      <th>post_id</th>\n",
       "      <th>time</th>\n",
       "      <th>timestamp</th>\n",
       "      <th>post_text</th>\n",
       "      <th>shares</th>\n",
       "      <th>comments</th>\n",
       "      <th>comments_full</th>\n",
       "      <th>reaction_count</th>\n",
       "      <th>reactions</th>\n",
       "      <th>reactors</th>\n",
       "    </tr>\n",
       "  </thead>\n",
       "  <tbody>\n",
       "    <tr>\n",
       "      <th>0</th>\n",
       "      <td>890116715803522</td>\n",
       "      <td>2023-11-07 20:15:02</td>\n",
       "      <td>1.699363e+09</td>\n",
       "      <td>Books of Clash Vol 2 is on sale! 🎉 Get it now ...</td>\n",
       "      <td>17</td>\n",
       "      <td>267</td>\n",
       "      <td>[{'comment_id': '1483156222461521', 'comment_u...</td>\n",
       "      <td>2000</td>\n",
       "      <td>{'like': 1470, 'love': 353, 'haha': 12, 'wow':...</td>\n",
       "      <td>[{'name': 'Di Mo', 'link': 'https://facebook.c...</td>\n",
       "    </tr>\n",
       "    <tr>\n",
       "      <th>1</th>\n",
       "      <td>889593269189200</td>\n",
       "      <td>2023-11-06 19:15:55</td>\n",
       "      <td>1.699273e+09</td>\n",
       "      <td>edit: the issues have been fixed, thanks for y...</td>\n",
       "      <td>23</td>\n",
       "      <td>764</td>\n",
       "      <td>[{'comment_id': '358059689925658', 'comment_ur...</td>\n",
       "      <td>3600</td>\n",
       "      <td>{'like': 2790, 'love': 524, 'haha': 185, 'wow'...</td>\n",
       "      <td>[{'name': 'Di Mo', 'link': 'https://facebook.c...</td>\n",
       "    </tr>\n",
       "    <tr>\n",
       "      <th>2</th>\n",
       "      <td>889556962526164</td>\n",
       "      <td>2023-11-06 17:36:19</td>\n",
       "      <td>1.699267e+09</td>\n",
       "      <td>Hey Chief! We've got a brief maintenance happe...</td>\n",
       "      <td>20</td>\n",
       "      <td>395</td>\n",
       "      <td>[{'comment_id': '1259825128044288', 'comment_u...</td>\n",
       "      <td>3200</td>\n",
       "      <td>{'like': 2520, 'love': 538, 'haha': 29, 'wow':...</td>\n",
       "      <td>[{'name': 'Di Mo', 'link': 'https://facebook.c...</td>\n",
       "    </tr>\n",
       "    <tr>\n",
       "      <th>3</th>\n",
       "      <td>888646695950524</td>\n",
       "      <td>2023-11-04 19:54:48</td>\n",
       "      <td>1.699102e+09</td>\n",
       "      <td>Before Barcher, Hog Wizard, Witch Golem and La...</td>\n",
       "      <td>152</td>\n",
       "      <td>475</td>\n",
       "      <td>[{'comment_id': '285704867769829', 'comment_ur...</td>\n",
       "      <td>7800</td>\n",
       "      <td>{'like': 5406, 'love': 2209, 'haha': 30, 'wow'...</td>\n",
       "      <td>[{'name': 'Di Mo', 'link': 'https://facebook.c...</td>\n",
       "    </tr>\n",
       "    <tr>\n",
       "      <th>4</th>\n",
       "      <td>888172002664660</td>\n",
       "      <td>2023-11-03 20:35:02</td>\n",
       "      <td>1.699019e+09</td>\n",
       "      <td></td>\n",
       "      <td>29</td>\n",
       "      <td>294</td>\n",
       "      <td>[{'comment_id': '592877136242752', 'comment_ur...</td>\n",
       "      <td>6400</td>\n",
       "      <td>{'like': 4458, 'love': 1772, 'haha': 11, 'wow'...</td>\n",
       "      <td>[{'name': 'Di Mo', 'link': 'https://facebook.c...</td>\n",
       "    </tr>\n",
       "  </tbody>\n",
       "</table>\n",
       "</div>"
      ],
      "text/plain": [
       "           post_id                time     timestamp  \\\n",
       "0  890116715803522 2023-11-07 20:15:02  1.699363e+09   \n",
       "1  889593269189200 2023-11-06 19:15:55  1.699273e+09   \n",
       "2  889556962526164 2023-11-06 17:36:19  1.699267e+09   \n",
       "3  888646695950524 2023-11-04 19:54:48  1.699102e+09   \n",
       "4  888172002664660 2023-11-03 20:35:02  1.699019e+09   \n",
       "\n",
       "                                           post_text  shares  comments  \\\n",
       "0  Books of Clash Vol 2 is on sale! 🎉 Get it now ...      17       267   \n",
       "1  edit: the issues have been fixed, thanks for y...      23       764   \n",
       "2  Hey Chief! We've got a brief maintenance happe...      20       395   \n",
       "3  Before Barcher, Hog Wizard, Witch Golem and La...     152       475   \n",
       "4                                                         29       294   \n",
       "\n",
       "                                       comments_full  reaction_count  \\\n",
       "0  [{'comment_id': '1483156222461521', 'comment_u...            2000   \n",
       "1  [{'comment_id': '358059689925658', 'comment_ur...            3600   \n",
       "2  [{'comment_id': '1259825128044288', 'comment_u...            3200   \n",
       "3  [{'comment_id': '285704867769829', 'comment_ur...            7800   \n",
       "4  [{'comment_id': '592877136242752', 'comment_ur...            6400   \n",
       "\n",
       "                                           reactions  \\\n",
       "0  {'like': 1470, 'love': 353, 'haha': 12, 'wow':...   \n",
       "1  {'like': 2790, 'love': 524, 'haha': 185, 'wow'...   \n",
       "2  {'like': 2520, 'love': 538, 'haha': 29, 'wow':...   \n",
       "3  {'like': 5406, 'love': 2209, 'haha': 30, 'wow'...   \n",
       "4  {'like': 4458, 'love': 1772, 'haha': 11, 'wow'...   \n",
       "\n",
       "                                            reactors  \n",
       "0  [{'name': 'Di Mo', 'link': 'https://facebook.c...  \n",
       "1  [{'name': 'Di Mo', 'link': 'https://facebook.c...  \n",
       "2  [{'name': 'Di Mo', 'link': 'https://facebook.c...  \n",
       "3  [{'name': 'Di Mo', 'link': 'https://facebook.c...  \n",
       "4  [{'name': 'Di Mo', 'link': 'https://facebook.c...  "
      ]
     },
     "execution_count": 91,
     "metadata": {},
     "output_type": "execute_result"
    }
   ],
   "source": [
    "df.head()"
   ]
  }
 ],
 "metadata": {
  "kernelspec": {
   "display_name": "Python 3",
   "language": "python",
   "name": "python3"
  },
  "language_info": {
   "codemirror_mode": {
    "name": "ipython",
    "version": 3
   },
   "file_extension": ".py",
   "mimetype": "text/x-python",
   "name": "python",
   "nbconvert_exporter": "python",
   "pygments_lexer": "ipython3",
   "version": "3.11.5"
  }
 },
 "nbformat": 4,
 "nbformat_minor": 2
}
