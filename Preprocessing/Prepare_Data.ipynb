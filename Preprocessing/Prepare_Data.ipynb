{
 "cells": [
  {
   "cell_type": "code",
   "execution_count": 72,
   "metadata": {},
   "outputs": [],
   "source": [
    "import pandas as pd\n",
    "import numpy as np"
   ]
  },
  {
   "cell_type": "code",
   "execution_count": 73,
   "metadata": {},
   "outputs": [],
   "source": [
    "comments = np.load('../Data/Fixed/ClashOfClans_Comments_Fixed.npy', allow_pickle=True)\n",
    "cmt_cols = np.load('../Data/Fixed/ClashOfClans_Comments_Fixed_cols.npy', allow_pickle=True)\n",
    "\n",
    "reactions = np.load('../Data/Fixed/ClashOfClans_Reactions_Fixed.npy', allow_pickle=True)\n",
    "rct_cols = np.load('../Data/Fixed/ClashOfClans_Reactions_Fixed_cols.npy', allow_pickle=True)\n",
    "\n",
    "reactors = np.load('../Data/Fixed/ClashOfClans_Reactors_Fixed.npy', allow_pickle=True)\n",
    "rtr_cols = np.load('../Data/Fixed/ClashOfClans_Reactors_Fixed_cols.npy', allow_pickle=True)"
   ]
  },
  {
   "cell_type": "code",
   "execution_count": 74,
   "metadata": {},
   "outputs": [
    {
     "name": "stdout",
     "output_type": "stream",
     "text": [
      "Comments:  (303, 53)\n",
      "Reactions:  (500, 51)\n",
      "Reactors:  (300,)\n"
     ]
    }
   ],
   "source": [
    "print('Comments: ', comments.shape)\n",
    "print('Reactions: ', reactions.shape)\n",
    "print('Reactors: ', reactors.shape)"
   ]
  },
  {
   "cell_type": "code",
   "execution_count": 75,
   "metadata": {},
   "outputs": [],
   "source": [
    "df = pd.DataFrame.from_records(comments, columns=cmt_cols)\n",
    "reactions = pd.DataFrame.from_records(reactions, columns=rct_cols)\n",
    "reactors = pd.DataFrame.from_records(reactors, columns=rtr_cols)"
   ]
  },
  {
   "cell_type": "code",
   "execution_count": 76,
   "metadata": {},
   "outputs": [],
   "source": [
    "df['reactions'] = reactions['reactions']\n",
    "df['reaction_count'] = reactions['reaction_count']\n",
    "df['reactors'] = reactors['reactors']"
   ]
  },
  {
   "cell_type": "code",
   "execution_count": 77,
   "metadata": {},
   "outputs": [
    {
     "name": "stdout",
     "output_type": "stream",
     "text": [
      "<class 'pandas.core.frame.DataFrame'>\n",
      "RangeIndex: 303 entries, 0 to 302\n",
      "Data columns (total 53 columns):\n",
      " #   Column                         Non-Null Count  Dtype         \n",
      "---  ------                         --------------  -----         \n",
      " 0   post_id                        303 non-null    object        \n",
      " 1   text                           303 non-null    object        \n",
      " 2   post_text                      303 non-null    object        \n",
      " 3   shared_text                    293 non-null    object        \n",
      " 4   original_text                  0 non-null      object        \n",
      " 5   time                           303 non-null    datetime64[ns]\n",
      " 6   timestamp                      303 non-null    float64       \n",
      " 7   image                          147 non-null    object        \n",
      " 8   image_lowquality               303 non-null    object        \n",
      " 9   images                         303 non-null    object        \n",
      " 10  images_description             303 non-null    object        \n",
      " 11  images_lowquality              303 non-null    object        \n",
      " 12  images_lowquality_description  303 non-null    object        \n",
      " 13  video                          113 non-null    object        \n",
      " 14  video_duration_seconds         0 non-null      object        \n",
      " 15  video_height                   0 non-null      object        \n",
      " 16  video_id                       113 non-null    object        \n",
      " 17  video_quality                  0 non-null      object        \n",
      " 18  video_size_MB                  0 non-null      object        \n",
      " 19  video_thumbnail                113 non-null    object        \n",
      " 20  video_watches                  0 non-null      object        \n",
      " 21  video_width                    0 non-null      object        \n",
      " 22  likes                          303 non-null    int64         \n",
      " 23  comments                       303 non-null    int64         \n",
      " 24  shares                         303 non-null    int64         \n",
      " 25  post_url                       303 non-null    object        \n",
      " 26  link                           68 non-null     object        \n",
      " 27  links                          303 non-null    object        \n",
      " 28  user_id                        303 non-null    object        \n",
      " 29  username                       303 non-null    object        \n",
      " 30  user_url                       303 non-null    object        \n",
      " 31  is_live                        303 non-null    bool          \n",
      " 32  factcheck                      0 non-null      object        \n",
      " 33  shared_post_id                 2 non-null      object        \n",
      " 34  shared_time                    2 non-null      datetime64[ns]\n",
      " 35  shared_user_id                 2 non-null      object        \n",
      " 36  shared_username                2 non-null      object        \n",
      " 37  shared_post_url                2 non-null      object        \n",
      " 38  available                      303 non-null    bool          \n",
      " 39  comments_full                  303 non-null    object        \n",
      " 40  reactors                       168 non-null    object        \n",
      " 41  w3_fb_url                      0 non-null      object        \n",
      " 42  reactions                      292 non-null    object        \n",
      " 43  reaction_count                 303 non-null    int64         \n",
      " 44  with                           36 non-null     object        \n",
      " 45  page_id                        303 non-null    object        \n",
      " 46  sharers                        0 non-null      object        \n",
      " 47  image_id                       144 non-null    object        \n",
      " 48  image_ids                      303 non-null    object        \n",
      " 49  was_live                       303 non-null    bool          \n",
      " 50  video_ids                      3 non-null      object        \n",
      " 51  videos                         3 non-null      object        \n",
      " 52  header                         36 non-null     object        \n",
      "dtypes: bool(3), datetime64[ns](2), float64(1), int64(4), object(43)\n",
      "memory usage: 119.4+ KB\n"
     ]
    }
   ],
   "source": [
    "df.info()"
   ]
  },
  {
   "cell_type": "code",
   "execution_count": 78,
   "metadata": {},
   "outputs": [],
   "source": [
    "check = df.isna().sum()"
   ]
  },
  {
   "cell_type": "code",
   "execution_count": 90,
   "metadata": {},
   "outputs": [
    {
     "data": {
      "text/plain": [
       "post_id                            0\n",
       "text                               0\n",
       "post_text                          0\n",
       "shared_text                       10\n",
       "time                               0\n",
       "timestamp                          0\n",
       "image_lowquality                   0\n",
       "images                             0\n",
       "images_description                 0\n",
       "images_lowquality                  0\n",
       "images_lowquality_description      0\n",
       "likes                              0\n",
       "comments                           0\n",
       "shares                             0\n",
       "post_url                           0\n",
       "links                              0\n",
       "user_id                            0\n",
       "username                           0\n",
       "user_url                           0\n",
       "is_live                            0\n",
       "available                          0\n",
       "comments_full                      0\n",
       "reactors                         135\n",
       "reactions                         11\n",
       "reaction_count                     0\n",
       "page_id                            0\n",
       "image_ids                          0\n",
       "was_live                           0\n",
       "dtype: int64"
      ]
     },
     "execution_count": 90,
     "metadata": {},
     "output_type": "execute_result"
    }
   ],
   "source": [
    "check.loc[check < 150]"
   ]
  },
  {
   "cell_type": "code",
   "execution_count": 92,
   "metadata": {},
   "outputs": [
    {
     "data": {
      "text/plain": [
       "(28,)"
      ]
     },
     "execution_count": 92,
     "metadata": {},
     "output_type": "execute_result"
    }
   ],
   "source": [
    "check.loc[check < 150].shape"
   ]
  },
  {
   "cell_type": "code",
   "execution_count": 80,
   "metadata": {},
   "outputs": [],
   "source": [
    "df = df.dropna(subset=['post_id', 'time', 'timestamp', \n",
    "              'post_text', 'shares', 'comments', \n",
    "              'comments_full', 'reaction_count', 'reactions', 'reactors'], axis=0)"
   ]
  },
  {
   "cell_type": "code",
   "execution_count": 81,
   "metadata": {},
   "outputs": [
    {
     "data": {
      "text/plain": [
       "(167, 53)"
      ]
     },
     "execution_count": 81,
     "metadata": {},
     "output_type": "execute_result"
    }
   ],
   "source": [
    "df.shape"
   ]
  },
  {
   "cell_type": "code",
   "execution_count": 82,
   "metadata": {},
   "outputs": [
    {
     "data": {
      "text/plain": [
       "Index([  0,   1,   2,   3,   4,   5,   6,   7,   8,   9,\n",
       "       ...\n",
       "       282, 283, 284, 285, 286, 287, 290, 295, 296, 299],\n",
       "      dtype='int64', length=167)"
      ]
     },
     "execution_count": 82,
     "metadata": {},
     "output_type": "execute_result"
    }
   ],
   "source": [
    "df.index"
   ]
  },
  {
   "cell_type": "code",
   "execution_count": 83,
   "metadata": {},
   "outputs": [],
   "source": [
    "df.index = np.arange(0, len(df))"
   ]
  },
  {
   "cell_type": "code",
   "execution_count": 84,
   "metadata": {},
   "outputs": [
    {
     "data": {
      "text/plain": [
       "Index([  0,   1,   2,   3,   4,   5,   6,   7,   8,   9,\n",
       "       ...\n",
       "       157, 158, 159, 160, 161, 162, 163, 164, 165, 166],\n",
       "      dtype='int32', length=167)"
      ]
     },
     "execution_count": 84,
     "metadata": {},
     "output_type": "execute_result"
    }
   ],
   "source": [
    "df.index"
   ]
  },
  {
   "cell_type": "code",
   "execution_count": 95,
   "metadata": {},
   "outputs": [],
   "source": [
    "# # save\n",
    "# path='../Data/Final/ClashOfClans'\n",
    "# df.to_csv(path + '.csv', index=False)\n",
    "\n",
    "# post_np_full = np.array(df)\n",
    "# np.save(path + \".npy\", post_np_full)\n",
    "\n",
    "# cols = np.array(df.columns)\n",
    "# np.save(path + \"_cols.npy\", cols)"
   ]
  }
 ],
 "metadata": {
  "kernelspec": {
   "display_name": "Python 3",
   "language": "python",
   "name": "python3"
  },
  "language_info": {
   "codemirror_mode": {
    "name": "ipython",
    "version": 3
   },
   "file_extension": ".py",
   "mimetype": "text/x-python",
   "name": "python",
   "nbconvert_exporter": "python",
   "pygments_lexer": "ipython3",
   "version": "3.11.5"
  }
 },
 "nbformat": 4,
 "nbformat_minor": 2
}
