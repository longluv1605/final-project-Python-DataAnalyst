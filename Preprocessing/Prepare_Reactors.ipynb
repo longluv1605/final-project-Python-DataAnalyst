{
 "cells": [
  {
   "cell_type": "code",
   "execution_count": 6,
   "metadata": {},
   "outputs": [],
   "source": [
    "import pandas as pd\n",
    "import ast\n",
    "import numpy as np"
   ]
  },
  {
   "cell_type": "code",
   "execution_count": 7,
   "metadata": {},
   "outputs": [],
   "source": [
    "df = pd.read_csv('../Data/Raw/ClashOfClans_Reactors.csv')"
   ]
  },
  {
   "cell_type": "code",
   "execution_count": 13,
   "metadata": {},
   "outputs": [],
   "source": [
    "def f(x):\n",
    "    if x is np.nan:\n",
    "        return x\n",
    "    x = x.replace(\"yêu thích\", 'love')\n",
    "    x = x.replace(\"thích\", 'like')\n",
    "    x = x.replace(\"buồn\", 'sad')\n",
    "    x = x.replace(\"giận dữ\", 'angry')\n",
    "    if x[len(x)-1] != ']':\n",
    "        x = x[:x.rfind('}') + 1] + ']'\n",
    "    return ast.literal_eval(x)"
   ]
  },
  {
   "cell_type": "code",
   "execution_count": 14,
   "metadata": {},
   "outputs": [],
   "source": [
    "df['reactors'] = df['reactors'].apply(f)"
   ]
  },
  {
   "cell_type": "code",
   "execution_count": 17,
   "metadata": {},
   "outputs": [
    {
     "data": {
      "text/plain": [
       "'Clypton Serencio Labadan'"
      ]
     },
     "execution_count": 17,
     "metadata": {},
     "output_type": "execute_result"
    }
   ],
   "source": [
    "df.reactors[1][1]['name']"
   ]
  },
  {
   "cell_type": "code",
   "execution_count": 18,
   "metadata": {},
   "outputs": [],
   "source": [
    "# save\n",
    "path='../Data/Fixed/ClashOfClans_Reactors_Fixed'\n",
    "df.to_csv(path + '.csv', index=False)\n",
    "post_np_full = np.array(df)\n",
    "np.save(path + \".npy\", post_np_full)"
   ]
  }
 ],
 "metadata": {
  "kernelspec": {
   "display_name": "Python 3",
   "language": "python",
   "name": "python3"
  },
  "language_info": {
   "codemirror_mode": {
    "name": "ipython",
    "version": 3
   },
   "file_extension": ".py",
   "mimetype": "text/x-python",
   "name": "python",
   "nbconvert_exporter": "python",
   "pygments_lexer": "ipython3",
   "version": "3.11.5"
  }
 },
 "nbformat": 4,
 "nbformat_minor": 2
}
