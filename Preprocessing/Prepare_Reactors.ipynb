{
 "cells": [
  {
   "cell_type": "code",
   "execution_count": 1,
   "metadata": {},
   "outputs": [],
   "source": [
    "import pandas as pd\n",
    "import ast\n",
    "import numpy as np"
   ]
  },
  {
   "cell_type": "code",
   "execution_count": 2,
   "metadata": {},
   "outputs": [],
   "source": [
    "# df = pd.read_csv('../Data/Raw/ClashOfClans_Reactors.csv')"
   ]
  },
  {
   "cell_type": "code",
   "execution_count": 3,
   "metadata": {},
   "outputs": [],
   "source": [
    "cols = np.array(pd.read_csv('../Data/Raw/ClashOfClans_Reactors.csv').columns)\n",
    "arr = np.load('../Data/Raw/ClashOfClans_Reactors.npy', allow_pickle=True)"
   ]
  },
  {
   "cell_type": "code",
   "execution_count": 4,
   "metadata": {},
   "outputs": [],
   "source": [
    "df = pd.DataFrame.from_records(arr, columns=cols)"
   ]
  },
  {
   "cell_type": "code",
   "execution_count": 5,
   "metadata": {},
   "outputs": [
    {
     "data": {
      "text/plain": [
       "0"
      ]
     },
     "execution_count": 5,
     "metadata": {},
     "output_type": "execute_result"
    }
   ],
   "source": [
    "df['post_id'].duplicated().sum()"
   ]
  },
  {
   "cell_type": "code",
   "execution_count": 6,
   "metadata": {},
   "outputs": [
    {
     "data": {
      "text/plain": [
       "{'name': 'Wesly Garsia',\n",
       " 'link': 'https://facebook.com/profile.php?id=100089893557024&eav=AfZaWDMMNIqD_zgf6S1JUu1_aAs8p4KLZRcPM9bVmoW5qSewemIsLOmu7_l56ANLi7w&fref=pb&paipv=0',\n",
       " 'type': 'yêu thích'}"
      ]
     },
     "execution_count": 6,
     "metadata": {},
     "output_type": "execute_result"
    }
   ],
   "source": [
    "\n",
    "df['reactors'][0][66]"
   ]
  },
  {
   "cell_type": "code",
   "execution_count": 7,
   "metadata": {},
   "outputs": [],
   "source": [
    "def f(x):\n",
    "    if x is None:\n",
    "        return np.nan\n",
    "    \n",
    "    for y in x:\n",
    "        if y['type'] == 'thích':\n",
    "            y['type'] = 'like'\n",
    "        elif y['type'] == 'yêu thích':\n",
    "            y['type'] = 'love'\n",
    "        elif y['type'] == 'thương thương':\n",
    "            y['type'] = 'care'\n",
    "        elif y['type'] == 'phẫn nộ':\n",
    "            y['type'] = 'angry'\n",
    "        elif y['type'] == 'buồn':\n",
    "            y['type'] = 'sad'\n",
    "    return x"
   ]
  },
  {
   "cell_type": "code",
   "execution_count": 8,
   "metadata": {},
   "outputs": [],
   "source": [
    "df['reactors'] = df['reactors'].apply(f)"
   ]
  },
  {
   "cell_type": "code",
   "execution_count": 9,
   "metadata": {},
   "outputs": [
    {
     "data": {
      "text/plain": [
       "{'name': 'Wesly Garsia',\n",
       " 'link': 'https://facebook.com/profile.php?id=100089893557024&eav=AfZaWDMMNIqD_zgf6S1JUu1_aAs8p4KLZRcPM9bVmoW5qSewemIsLOmu7_l56ANLi7w&fref=pb&paipv=0',\n",
       " 'type': 'love'}"
      ]
     },
     "execution_count": 9,
     "metadata": {},
     "output_type": "execute_result"
    }
   ],
   "source": [
    "df['reactors'][0][66]"
   ]
  },
  {
   "cell_type": "code",
   "execution_count": 10,
   "metadata": {},
   "outputs": [],
   "source": [
    "# # save\n",
    "# path='../Data/Fixed/ClashOfClans_Reactions_Fixed'\n",
    "# df.to_csv(path + '.csv', index=False)\n",
    "\n",
    "# arr = np.array(df)\n",
    "# np.save(path + \".npy\", arr)\n",
    "\n",
    "# np.save(path + \"_cols.npy\", cols)"
   ]
  }
 ],
 "metadata": {
  "kernelspec": {
   "display_name": "Python 3",
   "language": "python",
   "name": "python3"
  },
  "language_info": {
   "codemirror_mode": {
    "name": "ipython",
    "version": 3
   },
   "file_extension": ".py",
   "mimetype": "text/x-python",
   "name": "python",
   "nbconvert_exporter": "python",
   "pygments_lexer": "ipython3",
   "version": "3.11.5"
  }
 },
 "nbformat": 4,
 "nbformat_minor": 2
}
