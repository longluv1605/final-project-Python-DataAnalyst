{
 "cells": [
  {
   "cell_type": "code",
   "execution_count": 1,
   "metadata": {},
   "outputs": [],
   "source": [
    "import pandas as pd\n",
    "import numpy as np"
   ]
  },
  {
   "cell_type": "code",
   "execution_count": 2,
   "metadata": {},
   "outputs": [],
   "source": [
    "df = pd.DataFrame.from_records(np.load('../Data/Raw/ClashOfClans_Comments.npy', allow_pickle=True))"
   ]
  },
  {
   "cell_type": "code",
   "execution_count": 3,
   "metadata": {},
   "outputs": [
    {
     "name": "stdout",
     "output_type": "stream",
     "text": [
      "<class 'pandas.core.frame.DataFrame'>\n",
      "RangeIndex: 352 entries, 0 to 351\n",
      "Data columns (total 53 columns):\n",
      " #   Column                         Non-Null Count  Dtype         \n",
      "---  ------                         --------------  -----         \n",
      " 0   post_id                        352 non-null    object        \n",
      " 1   text                           352 non-null    object        \n",
      " 2   post_text                      352 non-null    object        \n",
      " 3   shared_text                    339 non-null    object        \n",
      " 4   original_text                  0 non-null      object        \n",
      " 5   time                           352 non-null    datetime64[ns]\n",
      " 6   timestamp                      348 non-null    float64       \n",
      " 7   image                          172 non-null    object        \n",
      " 8   image_lowquality               352 non-null    object        \n",
      " 9   images                         352 non-null    object        \n",
      " 10  images_description             352 non-null    object        \n",
      " 11  images_lowquality              352 non-null    object        \n",
      " 12  images_lowquality_description  352 non-null    object        \n",
      " 13  video                          133 non-null    object        \n",
      " 14  video_duration_seconds         0 non-null      object        \n",
      " 15  video_height                   0 non-null      object        \n",
      " 16  video_id                       133 non-null    object        \n",
      " 17  video_quality                  0 non-null      object        \n",
      " 18  video_size_MB                  0 non-null      object        \n",
      " 19  video_thumbnail                133 non-null    object        \n",
      " 20  video_watches                  0 non-null      object        \n",
      " 21  video_width                    0 non-null      object        \n",
      " 22  likes                          352 non-null    int64         \n",
      " 23  comments                       352 non-null    int64         \n",
      " 24  shares                         352 non-null    int64         \n",
      " 25  post_url                       352 non-null    object        \n",
      " 26  link                           83 non-null     object        \n",
      " 27  links                          352 non-null    object        \n",
      " 28  user_id                        352 non-null    object        \n",
      " 29  username                       352 non-null    object        \n",
      " 30  user_url                       352 non-null    object        \n",
      " 31  is_live                        352 non-null    bool          \n",
      " 32  factcheck                      0 non-null      object        \n",
      " 33  shared_post_id                 2 non-null      object        \n",
      " 34  shared_time                    2 non-null      datetime64[ns]\n",
      " 35  shared_user_id                 2 non-null      object        \n",
      " 36  shared_username                2 non-null      object        \n",
      " 37  shared_post_url                2 non-null      object        \n",
      " 38  available                      352 non-null    bool          \n",
      " 39  comments_full                  352 non-null    object        \n",
      " 40  reactors                       0 non-null      object        \n",
      " 41  w3_fb_url                      0 non-null      object        \n",
      " 42  reactions                      0 non-null      object        \n",
      " 43  reaction_count                 352 non-null    int64         \n",
      " 44  with                           44 non-null     object        \n",
      " 45  page_id                        352 non-null    object        \n",
      " 46  sharers                        0 non-null      object        \n",
      " 47  image_id                       169 non-null    object        \n",
      " 48  image_ids                      352 non-null    object        \n",
      " 49  was_live                       352 non-null    bool          \n",
      " 50  video_ids                      4 non-null      object        \n",
      " 51  videos                         4 non-null      object        \n",
      " 52  header                         44 non-null     object        \n",
      "dtypes: bool(3), datetime64[ns](2), float64(1), int64(4), object(43)\n",
      "memory usage: 138.7+ KB\n"
     ]
    }
   ],
   "source": [
    "df.info()"
   ]
  },
  {
   "cell_type": "code",
   "execution_count": 4,
   "metadata": {},
   "outputs": [
    {
     "data": {
      "text/plain": [
       "49"
      ]
     },
     "execution_count": 4,
     "metadata": {},
     "output_type": "execute_result"
    }
   ],
   "source": [
    "df['post_id'].duplicated().sum()"
   ]
  },
  {
   "cell_type": "code",
   "execution_count": 8,
   "metadata": {},
   "outputs": [
    {
     "data": {
      "text/plain": [
       "561.3465346534654"
      ]
     },
     "execution_count": 8,
     "metadata": {},
     "output_type": "execute_result"
    }
   ],
   "source": [
    "df.comments.mean()"
   ]
  },
  {
   "cell_type": "code",
   "execution_count": 5,
   "metadata": {},
   "outputs": [],
   "source": [
    "df.drop_duplicates(subset='post_id', inplace=True)"
   ]
  },
  {
   "cell_type": "code",
   "execution_count": 6,
   "metadata": {},
   "outputs": [
    {
     "data": {
      "text/plain": [
       "(303, 53)"
      ]
     },
     "execution_count": 6,
     "metadata": {},
     "output_type": "execute_result"
    }
   ],
   "source": [
    "df.shape"
   ]
  },
  {
   "cell_type": "code",
   "execution_count": 7,
   "metadata": {},
   "outputs": [],
   "source": [
    "# # save\n",
    "# path='../Data/Fixed/ClashOfClans_Comments_Fixed'\n",
    "# df.to_csv(path + '.csv', index=False)\n",
    "\n",
    "# post_np_full = np.array(df)\n",
    "# np.save(path + \".npy\", post_np_full)\n",
    "\n",
    "# cols = np.array(df.columns)\n",
    "# np.save(path + \"_cols.npy\", cols)"
   ]
  }
 ],
 "metadata": {
  "kernelspec": {
   "display_name": "Python 3",
   "language": "python",
   "name": "python3"
  },
  "language_info": {
   "codemirror_mode": {
    "name": "ipython",
    "version": 3
   },
   "file_extension": ".py",
   "mimetype": "text/x-python",
   "name": "python",
   "nbconvert_exporter": "python",
   "pygments_lexer": "ipython3",
   "version": "3.11.5"
  }
 },
 "nbformat": 4,
 "nbformat_minor": 2
}
