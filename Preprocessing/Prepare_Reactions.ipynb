{
 "cells": [
  {
   "cell_type": "markdown",
   "metadata": {},
   "source": [
    "# Some reactions is in Vietnamese and missing some reactions (like, love, ...)"
   ]
  },
  {
   "cell_type": "code",
   "execution_count": 1,
   "metadata": {},
   "outputs": [],
   "source": [
    "import pandas as pd\n",
    "import numpy as np"
   ]
  },
  {
   "cell_type": "code",
   "execution_count": 2,
   "metadata": {},
   "outputs": [],
   "source": [
    "cols = np.array(pd.read_csv('../Data/Raw/ClashOfClans_Reactions.csv').columns)\n",
    "arr = np.load('../Data/Raw/ClashOfClans_Reactions.npy', allow_pickle=True)"
   ]
  },
  {
   "cell_type": "code",
   "execution_count": 3,
   "metadata": {},
   "outputs": [],
   "source": [
    "df = pd.DataFrame(arr, columns=cols)"
   ]
  },
  {
   "cell_type": "code",
   "execution_count": 4,
   "metadata": {},
   "outputs": [
    {
     "name": "stdout",
     "output_type": "stream",
     "text": [
      "<class 'pandas.core.frame.DataFrame'>\n",
      "RangeIndex: 511 entries, 0 to 510\n",
      "Data columns (total 51 columns):\n",
      " #   Column                         Non-Null Count  Dtype         \n",
      "---  ------                         --------------  -----         \n",
      " 0   post_id                        511 non-null    object        \n",
      " 1   text                           511 non-null    object        \n",
      " 2   post_text                      511 non-null    object        \n",
      " 3   shared_text                    486 non-null    object        \n",
      " 4   original_text                  20 non-null     object        \n",
      " 5   time                           511 non-null    datetime64[ns]\n",
      " 6   timestamp                      511 non-null    object        \n",
      " 7   image                          258 non-null    object        \n",
      " 8   image_lowquality               511 non-null    object        \n",
      " 9   images                         510 non-null    object        \n",
      " 10  images_description             510 non-null    object        \n",
      " 11  images_lowquality              511 non-null    object        \n",
      " 12  images_lowquality_description  511 non-null    object        \n",
      " 13  video                          149 non-null    object        \n",
      " 14  video_duration_seconds         0 non-null      object        \n",
      " 15  video_height                   0 non-null      object        \n",
      " 16  video_id                       149 non-null    object        \n",
      " 17  video_quality                  0 non-null      object        \n",
      " 18  video_size_MB                  0 non-null      object        \n",
      " 19  video_thumbnail                149 non-null    object        \n",
      " 20  video_watches                  0 non-null      object        \n",
      " 21  video_width                    0 non-null      object        \n",
      " 22  likes                          336 non-null    object        \n",
      " 23  comments                       511 non-null    object        \n",
      " 24  shares                         511 non-null    object        \n",
      " 25  post_url                       511 non-null    object        \n",
      " 26  link                           126 non-null    object        \n",
      " 27  links                          511 non-null    object        \n",
      " 28  user_id                        511 non-null    object        \n",
      " 29  username                       511 non-null    object        \n",
      " 30  user_url                       511 non-null    object        \n",
      " 31  is_live                        511 non-null    object        \n",
      " 32  factcheck                      0 non-null      object        \n",
      " 33  shared_post_id                 2 non-null      object        \n",
      " 34  shared_time                    2 non-null      datetime64[ns]\n",
      " 35  shared_user_id                 2 non-null      object        \n",
      " 36  shared_username                2 non-null      object        \n",
      " 37  shared_post_url                2 non-null      object        \n",
      " 38  available                      511 non-null    object        \n",
      " 39  comments_full                  0 non-null      object        \n",
      " 40  reactors                       375 non-null    object        \n",
      " 41  w3_fb_url                      375 non-null    object        \n",
      " 42  reactions                      375 non-null    object        \n",
      " 43  reaction_count                 511 non-null    object        \n",
      " 44  with                           27 non-null     object        \n",
      " 45  page_id                        511 non-null    object        \n",
      " 46  sharers                        0 non-null      object        \n",
      " 47  image_id                       245 non-null    object        \n",
      " 48  image_ids                      511 non-null    object        \n",
      " 49  was_live                       511 non-null    object        \n",
      " 50  fetched_time                   375 non-null    datetime64[ns]\n",
      "dtypes: datetime64[ns](3), object(48)\n",
      "memory usage: 203.7+ KB\n"
     ]
    }
   ],
   "source": [
    "df.info()"
   ]
  },
  {
   "cell_type": "code",
   "execution_count": 5,
   "metadata": {},
   "outputs": [
    {
     "data": {
      "text/plain": [
       "(511, 51)"
      ]
     },
     "execution_count": 5,
     "metadata": {},
     "output_type": "execute_result"
    }
   ],
   "source": [
    "df.shape"
   ]
  },
  {
   "cell_type": "code",
   "execution_count": 6,
   "metadata": {},
   "outputs": [
    {
     "data": {
      "text/plain": [
       "11"
      ]
     },
     "execution_count": 6,
     "metadata": {},
     "output_type": "execute_result"
    }
   ],
   "source": [
    "df['post_id'].duplicated().sum()"
   ]
  },
  {
   "cell_type": "code",
   "execution_count": 7,
   "metadata": {},
   "outputs": [
    {
     "data": {
      "text/plain": [
       "{'thích': 4119,\n",
       " 'yêu thích': 997,\n",
       " 'haha': 23,\n",
       " 'wow': 8,\n",
       " 'thương thương': 47,\n",
       " 'buồn': 10,\n",
       " 'phẫn nộ': 19}"
      ]
     },
     "execution_count": 7,
     "metadata": {},
     "output_type": "execute_result"
    }
   ],
   "source": [
    "df['reactions'].iloc[300]"
   ]
  },
  {
   "cell_type": "code",
   "execution_count": 8,
   "metadata": {},
   "outputs": [
    {
     "data": {
      "text/plain": [
       "{'thích': 2073,\n",
       " 'yêu thích': 368,\n",
       " 'haha': 8,\n",
       " 'wow': 13,\n",
       " 'thương thương': 27,\n",
       " 'phẫn nộ': 5}"
      ]
     },
     "execution_count": 8,
     "metadata": {},
     "output_type": "execute_result"
    }
   ],
   "source": [
    "df['reactions'].iloc[288]"
   ]
  },
  {
   "cell_type": "code",
   "execution_count": 9,
   "metadata": {},
   "outputs": [],
   "source": [
    "def trans(dic):\n",
    "    if dic is None:\n",
    "        return np.nan\n",
    "    new_dic = {}\n",
    "    if 'thích' in dic.keys():\n",
    "        new_dic['like'] = dic['thích']\n",
    "    elif 'like' in dic.keys():\n",
    "        new_dic['like'] = dic['like']\n",
    "    else :\n",
    "        new_dic['like'] = 0\n",
    "    if 'yêu thích' in dic.keys():\n",
    "        new_dic['love'] = dic['yêu thích']\n",
    "    elif 'love' in dic.keys():\n",
    "        new_dic['love'] = dic['love']\n",
    "    else :\n",
    "        new_dic['love'] = 0\n",
    "    if 'haha' in dic.keys():\n",
    "        new_dic['haha'] = dic['haha']\n",
    "    else :\n",
    "        new_dic['haha'] = 0\n",
    "    if 'wow' in dic.keys():\n",
    "        new_dic['wow'] = dic['wow']\n",
    "    else :\n",
    "        new_dic['wow'] = 0\n",
    "    if 'thương thương' in dic.keys():\n",
    "        new_dic['care'] = dic['thương thương']\n",
    "    elif 'care' in dic.keys():\n",
    "        new_dic['care'] = dic['care']\n",
    "    else :\n",
    "        new_dic['care'] = 0\n",
    "    if 'buồn' in dic.keys():\n",
    "        new_dic['sad'] = dic['buồn']\n",
    "    elif 'sad' in dic.keys():\n",
    "        new_dic['sad'] = dic['sad']\n",
    "    else :\n",
    "        new_dic['sad'] = 0\n",
    "    if 'phẫn nộ' in dic.keys():\n",
    "        new_dic['angry'] = dic['phẫn nộ']\n",
    "    elif 'angry' in dic.keys():\n",
    "        new_dic['angry'] = dic['angry']\n",
    "    else :\n",
    "        new_dic['angry'] = 0\n",
    "    return new_dic"
   ]
  },
  {
   "cell_type": "code",
   "execution_count": 10,
   "metadata": {},
   "outputs": [],
   "source": [
    "df.reactions = df['reactions'].apply(trans)"
   ]
  },
  {
   "cell_type": "code",
   "execution_count": 11,
   "metadata": {},
   "outputs": [],
   "source": [
    "test = df.reactions.map(lambda x: len(x.keys()) if x is not np.nan else 0)"
   ]
  },
  {
   "cell_type": "code",
   "execution_count": 12,
   "metadata": {},
   "outputs": [
    {
     "data": {
      "text/plain": [
       "reactions\n",
       "7    375\n",
       "0    136\n",
       "Name: count, dtype: int64"
      ]
     },
     "execution_count": 12,
     "metadata": {},
     "output_type": "execute_result"
    }
   ],
   "source": [
    "test.value_counts()"
   ]
  },
  {
   "cell_type": "code",
   "execution_count": 13,
   "metadata": {},
   "outputs": [
    {
     "data": {
      "text/plain": [
       "{'like': 4119,\n",
       " 'love': 997,\n",
       " 'haha': 23,\n",
       " 'wow': 8,\n",
       " 'care': 47,\n",
       " 'sad': 10,\n",
       " 'angry': 19}"
      ]
     },
     "execution_count": 13,
     "metadata": {},
     "output_type": "execute_result"
    }
   ],
   "source": [
    "df.reactions.iloc[300]"
   ]
  },
  {
   "cell_type": "code",
   "execution_count": 14,
   "metadata": {},
   "outputs": [
    {
     "data": {
      "text/plain": [
       "{'like': 2073,\n",
       " 'love': 368,\n",
       " 'haha': 8,\n",
       " 'wow': 13,\n",
       " 'care': 27,\n",
       " 'sad': 0,\n",
       " 'angry': 5}"
      ]
     },
     "execution_count": 14,
     "metadata": {},
     "output_type": "execute_result"
    }
   ],
   "source": [
    "df['reactions'].iloc[288]"
   ]
  },
  {
   "cell_type": "code",
   "execution_count": 15,
   "metadata": {},
   "outputs": [],
   "source": [
    "df.drop_duplicates(subset=['post_id'], inplace=True)\n",
    "df.index = range(df.shape[0])"
   ]
  },
  {
   "cell_type": "code",
   "execution_count": 16,
   "metadata": {},
   "outputs": [
    {
     "data": {
      "text/plain": [
       "0"
      ]
     },
     "execution_count": 16,
     "metadata": {},
     "output_type": "execute_result"
    }
   ],
   "source": [
    "df['post_id'].duplicated().sum()"
   ]
  },
  {
   "cell_type": "code",
   "execution_count": 17,
   "metadata": {},
   "outputs": [
    {
     "data": {
      "text/plain": [
       "(500, 51)"
      ]
     },
     "execution_count": 17,
     "metadata": {},
     "output_type": "execute_result"
    }
   ],
   "source": [
    "df.shape"
   ]
  },
  {
   "cell_type": "code",
   "execution_count": 18,
   "metadata": {},
   "outputs": [
    {
     "data": {
      "text/plain": [
       "0      {'like': 1470, 'love': 353, 'haha': 12, 'wow':...\n",
       "1      {'like': 2790, 'love': 524, 'haha': 185, 'wow'...\n",
       "2      {'like': 2520, 'love': 538, 'haha': 29, 'wow':...\n",
       "3      {'like': 5406, 'love': 2209, 'haha': 30, 'wow'...\n",
       "4      {'like': 4458, 'love': 1772, 'haha': 11, 'wow'...\n",
       "                             ...                        \n",
       "495    {'like': 2883, 'love': 750, 'haha': 49, 'wow':...\n",
       "496    {'like': 5579, 'love': 1946, 'haha': 52, 'wow'...\n",
       "497    {'like': 4778, 'love': 1396, 'haha': 57, 'wow'...\n",
       "498    {'like': 2919, 'love': 607, 'haha': 60, 'wow':...\n",
       "499                                                  NaN\n",
       "Name: reactions, Length: 500, dtype: object"
      ]
     },
     "execution_count": 18,
     "metadata": {},
     "output_type": "execute_result"
    }
   ],
   "source": [
    "df.reactions"
   ]
  },
  {
   "cell_type": "code",
   "execution_count": 19,
   "metadata": {},
   "outputs": [],
   "source": [
    "# # save\n",
    "# path='../Data/Fixed/ClashOfClans_Reactions_Fixed'\n",
    "# df.to_csv(path + '.csv', index=False)\n",
    "\n",
    "# arr = np.array(df)\n",
    "# np.save(path + \".npy\", arr)\n",
    "\n",
    "# np.save(path + \"_cols.npy\", cols)"
   ]
  }
 ],
 "metadata": {
  "kernelspec": {
   "display_name": "Python 3",
   "language": "python",
   "name": "python3"
  },
  "language_info": {
   "codemirror_mode": {
    "name": "ipython",
    "version": 3
   },
   "file_extension": ".py",
   "mimetype": "text/x-python",
   "name": "python",
   "nbconvert_exporter": "python",
   "pygments_lexer": "ipython3",
   "version": "3.11.5"
  }
 },
 "nbformat": 4,
 "nbformat_minor": 2
}
