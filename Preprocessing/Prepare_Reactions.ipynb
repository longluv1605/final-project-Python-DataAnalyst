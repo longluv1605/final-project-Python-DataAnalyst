{
 "cells": [
  {
   "cell_type": "markdown",
   "metadata": {},
   "source": [
    "# Some reactions is in Vietnamese and missing some reactions (like, love, ...)"
   ]
  },
  {
   "cell_type": "code",
   "execution_count": 99,
   "metadata": {},
   "outputs": [],
   "source": [
    "import pandas as pd\n",
    "import numpy as np"
   ]
  },
  {
   "cell_type": "code",
   "execution_count": 100,
   "metadata": {},
   "outputs": [],
   "source": [
    "cols = np.array(pd.read_csv('../Data/Raw/ClashOfClans_Reactions.csv').columns)\n",
    "arr = np.load('../Data/Raw/ClashOfClans_Reactions.npy', allow_pickle=True)"
   ]
  },
  {
   "cell_type": "code",
   "execution_count": 101,
   "metadata": {},
   "outputs": [],
   "source": [
    "df = pd.DataFrame(arr, columns=cols)"
   ]
  },
  {
   "cell_type": "code",
   "execution_count": 102,
   "metadata": {},
   "outputs": [
    {
     "data": {
      "text/plain": [
       "(511, 51)"
      ]
     },
     "execution_count": 102,
     "metadata": {},
     "output_type": "execute_result"
    }
   ],
   "source": [
    "df.shape"
   ]
  },
  {
   "cell_type": "code",
   "execution_count": 103,
   "metadata": {},
   "outputs": [
    {
     "data": {
      "text/plain": [
       "11"
      ]
     },
     "execution_count": 103,
     "metadata": {},
     "output_type": "execute_result"
    }
   ],
   "source": [
    "df['post_id'].duplicated().sum()"
   ]
  },
  {
   "cell_type": "code",
   "execution_count": 104,
   "metadata": {},
   "outputs": [
    {
     "data": {
      "text/plain": [
       "{'thích': 4119,\n",
       " 'yêu thích': 997,\n",
       " 'haha': 23,\n",
       " 'wow': 8,\n",
       " 'thương thương': 47,\n",
       " 'buồn': 10,\n",
       " 'phẫn nộ': 19}"
      ]
     },
     "execution_count": 104,
     "metadata": {},
     "output_type": "execute_result"
    }
   ],
   "source": [
    "df['reactions'].iloc[300]"
   ]
  },
  {
   "cell_type": "code",
   "execution_count": 105,
   "metadata": {},
   "outputs": [
    {
     "data": {
      "text/plain": [
       "{'thích': 2073,\n",
       " 'yêu thích': 368,\n",
       " 'haha': 8,\n",
       " 'wow': 13,\n",
       " 'thương thương': 27,\n",
       " 'phẫn nộ': 5}"
      ]
     },
     "execution_count": 105,
     "metadata": {},
     "output_type": "execute_result"
    }
   ],
   "source": [
    "df['reactions'].iloc[288]"
   ]
  },
  {
   "cell_type": "code",
   "execution_count": 106,
   "metadata": {},
   "outputs": [],
   "source": [
    "def trans(dic):\n",
    "    if dic is None:\n",
    "        return np.nan\n",
    "    new_dic = {}\n",
    "    if 'thích' in dic.keys():\n",
    "        new_dic['like'] = dic['thích']\n",
    "    elif 'like' in dic.keys():\n",
    "        new_dic['like'] = dic['like']\n",
    "    else :\n",
    "        new_dic['like'] = 0\n",
    "    if 'yêu thích' in dic.keys():\n",
    "        new_dic['love'] = dic['yêu thích']\n",
    "    elif 'love' in dic.keys():\n",
    "        new_dic['love'] = dic['love']\n",
    "    else :\n",
    "        new_dic['love'] = 0\n",
    "    if 'haha' in dic.keys():\n",
    "        new_dic['haha'] = dic['haha']\n",
    "    else :\n",
    "        new_dic['haha'] = 0\n",
    "    if 'wow' in dic.keys():\n",
    "        new_dic['wow'] = dic['wow']\n",
    "    else :\n",
    "        new_dic['wow'] = 0\n",
    "    if 'thương thương' in dic.keys():\n",
    "        new_dic['care'] = dic['thương thương']\n",
    "    elif 'care' in dic.keys():\n",
    "        new_dic['care'] = dic['care']\n",
    "    else :\n",
    "        new_dic['care'] = 0\n",
    "    if 'buồn' in dic.keys():\n",
    "        new_dic['sad'] = dic['buồn']\n",
    "    elif 'sad' in dic.keys():\n",
    "        new_dic['sad'] = dic['sad']\n",
    "    else :\n",
    "        new_dic['sad'] = 0\n",
    "    if 'phẫn nộ' in dic.keys():\n",
    "        new_dic['angry'] = dic['phẫn nộ']\n",
    "    elif 'angry' in dic.keys():\n",
    "        new_dic['angry'] = dic['angry']\n",
    "    else :\n",
    "        new_dic['angry'] = 0\n",
    "    return new_dic"
   ]
  },
  {
   "cell_type": "code",
   "execution_count": 107,
   "metadata": {},
   "outputs": [],
   "source": [
    "df.reactions = df['reactions'].apply(trans)"
   ]
  },
  {
   "cell_type": "code",
   "execution_count": 108,
   "metadata": {},
   "outputs": [],
   "source": [
    "test = df.reactions.map(lambda x: len(x.keys()) if x is not np.nan else 0)"
   ]
  },
  {
   "cell_type": "code",
   "execution_count": 109,
   "metadata": {},
   "outputs": [
    {
     "data": {
      "text/plain": [
       "reactions\n",
       "7    375\n",
       "0    136\n",
       "Name: count, dtype: int64"
      ]
     },
     "execution_count": 109,
     "metadata": {},
     "output_type": "execute_result"
    }
   ],
   "source": [
    "test.value_counts()"
   ]
  },
  {
   "cell_type": "code",
   "execution_count": 110,
   "metadata": {},
   "outputs": [
    {
     "data": {
      "text/plain": [
       "{'like': 4119,\n",
       " 'love': 997,\n",
       " 'haha': 23,\n",
       " 'wow': 8,\n",
       " 'care': 47,\n",
       " 'sad': 10,\n",
       " 'angry': 19}"
      ]
     },
     "execution_count": 110,
     "metadata": {},
     "output_type": "execute_result"
    }
   ],
   "source": [
    "df.reactions.iloc[300]"
   ]
  },
  {
   "cell_type": "code",
   "execution_count": 111,
   "metadata": {},
   "outputs": [
    {
     "data": {
      "text/plain": [
       "{'like': 2073,\n",
       " 'love': 368,\n",
       " 'haha': 8,\n",
       " 'wow': 13,\n",
       " 'care': 27,\n",
       " 'sad': 0,\n",
       " 'angry': 5}"
      ]
     },
     "execution_count": 111,
     "metadata": {},
     "output_type": "execute_result"
    }
   ],
   "source": [
    "df['reactions'].iloc[288]"
   ]
  },
  {
   "cell_type": "code",
   "execution_count": 112,
   "metadata": {},
   "outputs": [],
   "source": [
    "df.drop_duplicates(subset=['post_id'], inplace=True)"
   ]
  },
  {
   "cell_type": "code",
   "execution_count": 113,
   "metadata": {},
   "outputs": [
    {
     "data": {
      "text/plain": [
       "0"
      ]
     },
     "execution_count": 113,
     "metadata": {},
     "output_type": "execute_result"
    }
   ],
   "source": [
    "df['post_id'].duplicated().sum()"
   ]
  },
  {
   "cell_type": "code",
   "execution_count": 114,
   "metadata": {},
   "outputs": [
    {
     "data": {
      "text/plain": [
       "(500, 51)"
      ]
     },
     "execution_count": 114,
     "metadata": {},
     "output_type": "execute_result"
    }
   ],
   "source": [
    "df.shape"
   ]
  },
  {
   "cell_type": "code",
   "execution_count": 115,
   "metadata": {},
   "outputs": [],
   "source": [
    "# # save\n",
    "# path='../Data/Fixed/ClashOfClans_Reactions_Fixed'\n",
    "# df.to_csv(path + '.csv', index=False)\n",
    "\n",
    "# np.save(path + \".npy\", arr)\n",
    "\n",
    "# np.save(path + \"_cols.npy\", cols)"
   ]
  }
 ],
 "metadata": {
  "kernelspec": {
   "display_name": "Python 3",
   "language": "python",
   "name": "python3"
  },
  "language_info": {
   "codemirror_mode": {
    "name": "ipython",
    "version": 3
   },
   "file_extension": ".py",
   "mimetype": "text/x-python",
   "name": "python",
   "nbconvert_exporter": "python",
   "pygments_lexer": "ipython3",
   "version": "3.11.5"
  }
 },
 "nbformat": 4,
 "nbformat_minor": 2
}
