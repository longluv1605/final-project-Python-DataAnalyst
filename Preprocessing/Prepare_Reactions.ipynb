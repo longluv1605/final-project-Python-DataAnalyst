{
 "cells": [
  {
   "cell_type": "markdown",
   "metadata": {},
   "source": [
    "# Some reactions is in Vietnamese and missing some reactions (like, love, ...)"
   ]
  },
  {
   "cell_type": "code",
   "execution_count": 88,
   "metadata": {},
   "outputs": [],
   "source": [
    "import pandas as pd\n",
    "import numpy as np\n",
    "import ast"
   ]
  },
  {
   "cell_type": "code",
   "execution_count": 89,
   "metadata": {},
   "outputs": [],
   "source": [
    "df = pd.read_excel('../Data/ClashOfClans_Reactions.xlsx')"
   ]
  },
  {
   "cell_type": "code",
   "execution_count": 90,
   "metadata": {},
   "outputs": [],
   "source": [
    "\n",
    "df.reactions = df.reactions.apply(lambda x: ast.literal_eval(x) if x is not np.nan \n",
    "                                  else {'like': 0, 'love': 0, 'haha': 0, 'wow': 0, 'care': 0, 'sad': 0, 'angry': 0})"
   ]
  },
  {
   "cell_type": "code",
   "execution_count": 91,
   "metadata": {},
   "outputs": [],
   "source": [
    "def trans(dic):\n",
    "    new_dic = {}\n",
    "    if 'thích' in dic.keys():\n",
    "        new_dic['like'] = dic['thích']\n",
    "    elif 'like' in dic.keys():\n",
    "        new_dic['like'] = dic['like']\n",
    "    else :\n",
    "        new_dic['like'] = 0\n",
    "    if 'yêu thích' in dic.keys():\n",
    "        new_dic['love'] = dic['yêu thích']\n",
    "    elif 'love' in dic.keys():\n",
    "        new_dic['love'] = dic['love']\n",
    "    else :\n",
    "        new_dic['love'] = 0\n",
    "    if 'haha' in dic.keys():\n",
    "        new_dic['haha'] = dic['haha']\n",
    "    else :\n",
    "        new_dic['haha'] = 0\n",
    "    if 'wow' in dic.keys():\n",
    "        new_dic['wow'] = dic['wow']\n",
    "    else :\n",
    "        new_dic['wow'] = 0\n",
    "    if 'thương thương' in dic.keys():\n",
    "        new_dic['care'] = dic['thương thương']\n",
    "    elif 'care' in dic.keys():\n",
    "        new_dic['care'] = dic['care']\n",
    "    else :\n",
    "        new_dic['care'] = 0\n",
    "    if 'buồn' in dic.keys():\n",
    "        new_dic['sad'] = dic['buồn']\n",
    "    elif 'sad' in dic.keys():\n",
    "        new_dic['sad'] = dic['sad']\n",
    "    else :\n",
    "        new_dic['sad'] = 0\n",
    "    if 'phẫn nộ' in dic.keys():\n",
    "        new_dic['angry'] = dic['phẫn nộ']\n",
    "    elif 'angry' in dic.keys():\n",
    "        new_dic['angry'] = dic['angry']\n",
    "    else :\n",
    "        new_dic['angry'] = 0\n",
    "    return new_dic"
   ]
  },
  {
   "cell_type": "code",
   "execution_count": 92,
   "metadata": {},
   "outputs": [],
   "source": [
    "df.reactions = df['reactions'].apply(trans)"
   ]
  },
  {
   "cell_type": "code",
   "execution_count": 93,
   "metadata": {},
   "outputs": [],
   "source": [
    "df.reactions = df['reactions'].apply(lambda x: np.nan if x['like'] == 0 and x['love'] == 0 and x['haha'] == 0 and x['wow'] == 0 and x['care'] == 0 and x['sad'] == 0 and x['angry'] == 0 else x)"
   ]
  },
  {
   "cell_type": "code",
   "execution_count": 94,
   "metadata": {},
   "outputs": [
    {
     "data": {
      "text/plain": [
       "0      {'like': 1470, 'love': 353, 'haha': 12, 'wow':...\n",
       "1      {'like': 2790, 'love': 524, 'haha': 185, 'wow'...\n",
       "2      {'like': 2520, 'love': 538, 'haha': 29, 'wow':...\n",
       "3      {'like': 5406, 'love': 2209, 'haha': 30, 'wow'...\n",
       "4      {'like': 4458, 'love': 1772, 'haha': 11, 'wow'...\n",
       "                             ...                        \n",
       "506    {'like': 2883, 'love': 750, 'haha': 49, 'wow':...\n",
       "507    {'like': 5579, 'love': 1946, 'haha': 52, 'wow'...\n",
       "508    {'like': 4778, 'love': 1396, 'haha': 57, 'wow'...\n",
       "509    {'like': 2919, 'love': 607, 'haha': 60, 'wow':...\n",
       "510                                                  NaN\n",
       "Name: reactions, Length: 511, dtype: object"
      ]
     },
     "execution_count": 94,
     "metadata": {},
     "output_type": "execute_result"
    }
   ],
   "source": [
    "df.reactions"
   ]
  },
  {
   "cell_type": "code",
   "execution_count": null,
   "metadata": {},
   "outputs": [],
   "source": [
    "# save\n",
    "path='../Data/ClashOfClans_Reactions_Fixed'\n",
    "df.to_excel(path + '.xlsx', index=False)"
   ]
  }
 ],
 "metadata": {
  "kernelspec": {
   "display_name": "Python 3",
   "language": "python",
   "name": "python3"
  },
  "language_info": {
   "codemirror_mode": {
    "name": "ipython",
    "version": 3
   },
   "file_extension": ".py",
   "mimetype": "text/x-python",
   "name": "python",
   "nbconvert_exporter": "python",
   "pygments_lexer": "ipython3",
   "version": "3.11.5"
  }
 },
 "nbformat": 4,
 "nbformat_minor": 2
}
