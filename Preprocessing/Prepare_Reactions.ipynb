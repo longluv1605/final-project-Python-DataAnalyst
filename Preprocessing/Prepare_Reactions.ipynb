{
 "cells": [
  {
   "cell_type": "markdown",
   "metadata": {},
   "source": [
    "# Some reactions is in Vietnamese and missing some reactions (like, love, ...)"
   ]
  },
  {
   "cell_type": "code",
   "execution_count": 1,
   "metadata": {},
   "outputs": [],
   "source": [
    "import pandas as pd\n",
    "import numpy as np\n",
    "import ast"
   ]
  },
  {
   "cell_type": "code",
   "execution_count": 2,
   "metadata": {},
   "outputs": [],
   "source": [
    "df = pd.read_csv('../Data/Raw/ClashOfClans_Reactions.csv')"
   ]
  },
  {
   "cell_type": "code",
   "execution_count": 3,
   "metadata": {},
   "outputs": [],
   "source": [
    "\n",
    "df.reactions = df.reactions.apply(lambda x: ast.literal_eval(x) if x is not np.nan else x)"
   ]
  },
  {
   "cell_type": "code",
   "execution_count": 4,
   "metadata": {},
   "outputs": [],
   "source": [
    "def trans(dic):\n",
    "    if dic is np.nan:\n",
    "        return dic\n",
    "    new_dic = {}\n",
    "    if 'thích' in dic.keys():\n",
    "        new_dic['like'] = dic['thích']\n",
    "    elif 'like' in dic.keys():\n",
    "        new_dic['like'] = dic['like']\n",
    "    else :\n",
    "        new_dic['like'] = 0\n",
    "    if 'yêu thích' in dic.keys():\n",
    "        new_dic['love'] = dic['yêu thích']\n",
    "    elif 'love' in dic.keys():\n",
    "        new_dic['love'] = dic['love']\n",
    "    else :\n",
    "        new_dic['love'] = 0\n",
    "    if 'haha' in dic.keys():\n",
    "        new_dic['haha'] = dic['haha']\n",
    "    else :\n",
    "        new_dic['haha'] = 0\n",
    "    if 'wow' in dic.keys():\n",
    "        new_dic['wow'] = dic['wow']\n",
    "    else :\n",
    "        new_dic['wow'] = 0\n",
    "    if 'thương thương' in dic.keys():\n",
    "        new_dic['care'] = dic['thương thương']\n",
    "    elif 'care' in dic.keys():\n",
    "        new_dic['care'] = dic['care']\n",
    "    else :\n",
    "        new_dic['care'] = 0\n",
    "    if 'buồn' in dic.keys():\n",
    "        new_dic['sad'] = dic['buồn']\n",
    "    elif 'sad' in dic.keys():\n",
    "        new_dic['sad'] = dic['sad']\n",
    "    else :\n",
    "        new_dic['sad'] = 0\n",
    "    if 'phẫn nộ' in dic.keys():\n",
    "        new_dic['angry'] = dic['phẫn nộ']\n",
    "    elif 'angry' in dic.keys():\n",
    "        new_dic['angry'] = dic['angry']\n",
    "    else :\n",
    "        new_dic['angry'] = 0\n",
    "    return new_dic"
   ]
  },
  {
   "cell_type": "code",
   "execution_count": 5,
   "metadata": {},
   "outputs": [],
   "source": [
    "df.reactions = df['reactions'].apply(trans)"
   ]
  },
  {
   "cell_type": "code",
   "execution_count": 15,
   "metadata": {},
   "outputs": [],
   "source": [
    "test = df.reactions.map(lambda x: len(x.keys()) if x is not np.nan else 0)"
   ]
  },
  {
   "cell_type": "code",
   "execution_count": 16,
   "metadata": {},
   "outputs": [
    {
     "data": {
      "text/plain": [
       "reactions\n",
       "7    375\n",
       "0    136\n",
       "Name: count, dtype: int64"
      ]
     },
     "execution_count": 16,
     "metadata": {},
     "output_type": "execute_result"
    }
   ],
   "source": [
    "test.value_counts()"
   ]
  },
  {
   "cell_type": "code",
   "execution_count": 12,
   "metadata": {},
   "outputs": [
    {
     "data": {
      "text/plain": [
       "2790.0"
      ]
     },
     "execution_count": 12,
     "metadata": {},
     "output_type": "execute_result"
    }
   ],
   "source": [
    "df.likes[1]"
   ]
  },
  {
   "cell_type": "code",
   "execution_count": 8,
   "metadata": {},
   "outputs": [],
   "source": [
    "# save\n",
    "path='../Data/Fixed/ClashOfClans_Reactions_Fixed'\n",
    "df.to_csv(path + '.csv', index=False)\n",
    "post_np_full = np.array(df)\n",
    "np.save(path + \".npy\", post_np_full)"
   ]
  }
 ],
 "metadata": {
  "kernelspec": {
   "display_name": "Python 3",
   "language": "python",
   "name": "python3"
  },
  "language_info": {
   "codemirror_mode": {
    "name": "ipython",
    "version": 3
   },
   "file_extension": ".py",
   "mimetype": "text/x-python",
   "name": "python",
   "nbconvert_exporter": "python",
   "pygments_lexer": "ipython3",
   "version": "3.11.5"
  }
 },
 "nbformat": 4,
 "nbformat_minor": 2
}
