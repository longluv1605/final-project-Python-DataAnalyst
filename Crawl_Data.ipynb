{
 "cells": [
  {
   "cell_type": "markdown",
   "metadata": {},
   "source": [
    "![green-divider](https://user-images.githubusercontent.com/7065401/52071924-c003ad80-2562-11e9-8297-1c6595f8a7ff.png)\n",
    "\n",
    "# Facebook Data Crawling\n",
    "In this notebook, we will be crawling data from Facebook. We will be using the facebook-scraper"
   ]
  },
  {
   "cell_type": "markdown",
   "metadata": {},
   "source": [
    "![green-divider](https://user-images.githubusercontent.com/7065401/52071924-c003ad80-2562-11e9-8297-1c6595f8a7ff.png)\n",
    "\n",
    "# Facebook page which is chosen\n",
    "Here: [Amazon](https://www.facebook.com/Amazon)"
   ]
  },
  {
   "cell_type": "markdown",
   "metadata": {},
   "source": [
    "![green-divider](https://user-images.githubusercontent.com/7065401/52071924-c003ad80-2562-11e9-8297-1c6595f8a7ff.png)\n",
    "\n",
    "## Install the required library\n",
    "We will be using the facebook-scraper library to crawl data from Facebook. We will install this library using pip."
   ]
  },
  {
   "cell_type": "code",
   "execution_count": 82,
   "metadata": {},
   "outputs": [
    {
     "name": "stdout",
     "output_type": "stream",
     "text": [
      "Requirement already satisfied: pandas in c:\\users\\longt\\appdata\\local\\programs\\python\\python311\\lib\\site-packages (2.1.0)\n",
      "Requirement already satisfied: numpy in c:\\users\\longt\\appdata\\local\\programs\\python\\python311\\lib\\site-packages (1.25.2)\n",
      "Requirement already satisfied: facebook_scraper in c:\\users\\longt\\appdata\\local\\programs\\python\\python311\\lib\\site-packages (0.2.59)\n",
      "Requirement already satisfied: python-dateutil>=2.8.2 in c:\\users\\longt\\appdata\\local\\programs\\python\\python311\\lib\\site-packages (from pandas) (2.8.2)\n",
      "Requirement already satisfied: pytz>=2020.1 in c:\\users\\longt\\appdata\\local\\programs\\python\\python311\\lib\\site-packages (from pandas) (2023.3.post1)\n",
      "Requirement already satisfied: tzdata>=2022.1 in c:\\users\\longt\\appdata\\local\\programs\\python\\python311\\lib\\site-packages (from pandas) (2023.3)\n",
      "Requirement already satisfied: dateparser<2.0.0,>=1.0.0 in c:\\users\\longt\\appdata\\local\\programs\\python\\python311\\lib\\site-packages (from facebook_scraper) (1.1.8)\n",
      "Requirement already satisfied: demjson3<4.0.0,>=3.0.5 in c:\\users\\longt\\appdata\\local\\programs\\python\\python311\\lib\\site-packages (from facebook_scraper) (3.0.6)\n",
      "Requirement already satisfied: requests-html<0.11.0,>=0.10.0 in c:\\users\\longt\\appdata\\local\\programs\\python\\python311\\lib\\site-packages (from facebook_scraper) (0.10.0)\n",
      "Requirement already satisfied: regex!=2019.02.19,!=2021.8.27 in c:\\users\\longt\\appdata\\local\\programs\\python\\python311\\lib\\site-packages (from dateparser<2.0.0,>=1.0.0->facebook_scraper) (2023.10.3)\n",
      "Requirement already satisfied: tzlocal in c:\\users\\longt\\appdata\\local\\programs\\python\\python311\\lib\\site-packages (from dateparser<2.0.0,>=1.0.0->facebook_scraper) (5.2)\n",
      "Requirement already satisfied: six>=1.5 in c:\\users\\longt\\appdata\\local\\programs\\python\\python311\\lib\\site-packages (from python-dateutil>=2.8.2->pandas) (1.16.0)\n",
      "Requirement already satisfied: requests in c:\\users\\longt\\appdata\\local\\programs\\python\\python311\\lib\\site-packages (from requests-html<0.11.0,>=0.10.0->facebook_scraper) (2.31.0)\n",
      "Requirement already satisfied: pyquery in c:\\users\\longt\\appdata\\local\\programs\\python\\python311\\lib\\site-packages (from requests-html<0.11.0,>=0.10.0->facebook_scraper) (2.0.0)\n",
      "Requirement already satisfied: fake-useragent in c:\\users\\longt\\appdata\\local\\programs\\python\\python311\\lib\\site-packages (from requests-html<0.11.0,>=0.10.0->facebook_scraper) (1.3.0)\n",
      "Requirement already satisfied: parse in c:\\users\\longt\\appdata\\local\\programs\\python\\python311\\lib\\site-packages (from requests-html<0.11.0,>=0.10.0->facebook_scraper) (1.19.1)\n",
      "Requirement already satisfied: bs4 in c:\\users\\longt\\appdata\\local\\programs\\python\\python311\\lib\\site-packages (from requests-html<0.11.0,>=0.10.0->facebook_scraper) (0.0.1)\n",
      "Requirement already satisfied: w3lib in c:\\users\\longt\\appdata\\local\\programs\\python\\python311\\lib\\site-packages (from requests-html<0.11.0,>=0.10.0->facebook_scraper) (2.1.2)\n",
      "Requirement already satisfied: pyppeteer>=0.0.14 in c:\\users\\longt\\appdata\\local\\programs\\python\\python311\\lib\\site-packages (from requests-html<0.11.0,>=0.10.0->facebook_scraper) (1.0.2)\n",
      "Requirement already satisfied: appdirs<2.0.0,>=1.4.3 in c:\\users\\longt\\appdata\\local\\programs\\python\\python311\\lib\\site-packages (from pyppeteer>=0.0.14->requests-html<0.11.0,>=0.10.0->facebook_scraper) (1.4.4)\n",
      "Requirement already satisfied: certifi>=2021 in c:\\users\\longt\\appdata\\local\\programs\\python\\python311\\lib\\site-packages (from pyppeteer>=0.0.14->requests-html<0.11.0,>=0.10.0->facebook_scraper) (2023.7.22)\n",
      "Requirement already satisfied: importlib-metadata>=1.4 in c:\\users\\longt\\appdata\\local\\programs\\python\\python311\\lib\\site-packages (from pyppeteer>=0.0.14->requests-html<0.11.0,>=0.10.0->facebook_scraper) (6.8.0)\n",
      "Requirement already satisfied: pyee<9.0.0,>=8.1.0 in c:\\users\\longt\\appdata\\local\\programs\\python\\python311\\lib\\site-packages (from pyppeteer>=0.0.14->requests-html<0.11.0,>=0.10.0->facebook_scraper) (8.2.2)\n",
      "Requirement already satisfied: tqdm<5.0.0,>=4.42.1 in c:\\users\\longt\\appdata\\local\\programs\\python\\python311\\lib\\site-packages (from pyppeteer>=0.0.14->requests-html<0.11.0,>=0.10.0->facebook_scraper) (4.66.1)\n",
      "Requirement already satisfied: urllib3<2.0.0,>=1.25.8 in c:\\users\\longt\\appdata\\local\\programs\\python\\python311\\lib\\site-packages (from pyppeteer>=0.0.14->requests-html<0.11.0,>=0.10.0->facebook_scraper) (1.26.18)\n",
      "Requirement already satisfied: websockets<11.0,>=10.0 in c:\\users\\longt\\appdata\\local\\programs\\python\\python311\\lib\\site-packages (from pyppeteer>=0.0.14->requests-html<0.11.0,>=0.10.0->facebook_scraper) (10.4)\n",
      "Requirement already satisfied: beautifulsoup4 in c:\\users\\longt\\appdata\\local\\programs\\python\\python311\\lib\\site-packages (from bs4->requests-html<0.11.0,>=0.10.0->facebook_scraper) (4.12.2)\n",
      "Requirement already satisfied: lxml>=2.1 in c:\\users\\longt\\appdata\\local\\programs\\python\\python311\\lib\\site-packages (from pyquery->requests-html<0.11.0,>=0.10.0->facebook_scraper) (4.9.3)\n",
      "Requirement already satisfied: cssselect>=1.2.0 in c:\\users\\longt\\appdata\\local\\programs\\python\\python311\\lib\\site-packages (from pyquery->requests-html<0.11.0,>=0.10.0->facebook_scraper) (1.2.0)\n",
      "Requirement already satisfied: charset-normalizer<4,>=2 in c:\\users\\longt\\appdata\\local\\programs\\python\\python311\\lib\\site-packages (from requests->requests-html<0.11.0,>=0.10.0->facebook_scraper) (3.2.0)\n",
      "Requirement already satisfied: idna<4,>=2.5 in c:\\users\\longt\\appdata\\local\\programs\\python\\python311\\lib\\site-packages (from requests->requests-html<0.11.0,>=0.10.0->facebook_scraper) (3.4)\n",
      "Requirement already satisfied: zipp>=0.5 in c:\\users\\longt\\appdata\\local\\programs\\python\\python311\\lib\\site-packages (from importlib-metadata>=1.4->pyppeteer>=0.0.14->requests-html<0.11.0,>=0.10.0->facebook_scraper) (3.17.0)\n",
      "Requirement already satisfied: colorama in c:\\users\\longt\\appdata\\local\\programs\\python\\python311\\lib\\site-packages (from tqdm<5.0.0,>=4.42.1->pyppeteer>=0.0.14->requests-html<0.11.0,>=0.10.0->facebook_scraper) (0.4.6)\n",
      "Requirement already satisfied: soupsieve>1.2 in c:\\users\\longt\\appdata\\local\\programs\\python\\python311\\lib\\site-packages (from beautifulsoup4->bs4->requests-html<0.11.0,>=0.10.0->facebook_scraper) (2.5)\n",
      "Note: you may need to restart the kernel to use updated packages.\n"
     ]
    }
   ],
   "source": [
    "%pip install pandas numpy facebook_scraper"
   ]
  },
  {
   "cell_type": "code",
   "execution_count": 83,
   "metadata": {},
   "outputs": [],
   "source": [
    "from facebook_scraper import get_posts\n",
    "import pandas as pd\n",
    "import numpy as np"
   ]
  },
  {
   "cell_type": "markdown",
   "metadata": {},
   "source": [
    "![green-divider](https://user-images.githubusercontent.com/7065401/52071924-c003ad80-2562-11e9-8297-1c6595f8a7ff.png)\n",
    "\n",
    "# Now we will make some configurations"
   ]
  },
  {
   "cell_type": "code",
   "execution_count": 84,
   "metadata": {},
   "outputs": [],
   "source": [
    "FANPAGE_LINK = 'Amazon'\n",
    "FOLDER_PATH = 'data/'\n",
    "COOKIE_PATH = './config/cookies.txt'\n",
    "\n",
    "PAGES_NUMBER = 20 # Number of pages to crawl"
   ]
  },
  {
   "cell_type": "markdown",
   "metadata": {},
   "source": [
    "![green-divider](https://user-images.githubusercontent.com/7065401/52071924-c003ad80-2562-11e9-8297-1c6595f8a7ff.png)\n",
    "\n",
    "# Extract raw data from Amazon using get_posts"
   ]
  },
  {
   "cell_type": "code",
   "execution_count": 88,
   "metadata": {},
   "outputs": [],
   "source": [
    "post_list = []\n",
    "for post in get_posts(FANPAGE_LINK,\n",
    "                    options={\"comments\": True, \"reactions\": True, \"allow_extra_requests\": True},\n",
    "                    extra_info=True, pages=PAGES_NUMBER, cookies=COOKIE_PATH):\n",
    "    print(post)\n",
    "    post_list.append(post)"
   ]
  },
  {
   "cell_type": "code",
   "execution_count": 57,
   "metadata": {},
   "outputs": [
    {
     "data": {
      "text/plain": [
       "81"
      ]
     },
     "execution_count": 57,
     "metadata": {},
     "output_type": "execute_result"
    }
   ],
   "source": [
    "len(post_list)"
   ]
  },
  {
   "cell_type": "markdown",
   "metadata": {},
   "source": [
    "![green-divider](https://user-images.githubusercontent.com/7065401/52071924-c003ad80-2562-11e9-8297-1c6595f8a7ff.png)\n",
    "\n",
    "# Save raw data"
   ]
  },
  {
   "cell_type": "code",
   "execution_count": 89,
   "metadata": {},
   "outputs": [],
   "source": [
    "\"\"\"\n",
    "TEST\n",
    "\n",
    "\n",
    "# Initialize dataframe to scrape Facebook post\n",
    "post_df_full_test = pd.DataFrame(columns = [])\n",
    "# Start to collect Facebook post data by facebook_scraper library\n",
    "for post in post_list:\n",
    "    post_entry = post\n",
    "    fb_post_df = pd.DataFrame.from_dict(post_entry, orient='index')\n",
    "    fb_post_df = fb_post_df.transpose()\n",
    "    post_df_full_test = pd.concat([post_df_full_test, fb_post_df])\n",
    "    \n",
    "post_df_full_test.index = range(81)\n",
    "path=FOLDER_PATH + \"TEMP\"\n",
    "# post_df_full_test.to_csv(path + \".csv\", index=False)\n",
    "# post_df_full_test.to_excel(path + \".xlsx\", index=False)\n",
    "\n",
    "\"\"\""
   ]
  },
  {
   "cell_type": "code",
   "execution_count": 80,
   "metadata": {},
   "outputs": [
    {
     "name": "stdout",
     "output_type": "stream",
     "text": [
      "data/Amazon\n"
     ]
    }
   ],
   "source": [
    "# Initialize dataframe to scrape Facebook post\n",
    "post_df_full = pd.DataFrame(columns=post_list[0].keys(), index=range(len(post_list)), data=post_list)\n",
    "post_np_full = np.array(post_list)\n",
    "\n",
    "# To df\n",
    "path=FOLDER_PATH + FANPAGE_LINK\n",
    "# post_df_full.to_csv(path + \".csv\", index=False)\n",
    "# post_df_full.to_excel(path + \".xlsx\", index=False)\n",
    "# np.save(path + \".npy\", post_np_full)"
   ]
  }
 ],
 "metadata": {
  "kernelspec": {
   "display_name": "Python 3",
   "language": "python",
   "name": "python3"
  },
  "language_info": {
   "codemirror_mode": {
    "name": "ipython",
    "version": 3
   },
   "file_extension": ".py",
   "mimetype": "text/x-python",
   "name": "python",
   "nbconvert_exporter": "python",
   "pygments_lexer": "ipython3",
   "version": "3.11.5"
  }
 },
 "nbformat": 4,
 "nbformat_minor": 2
}
