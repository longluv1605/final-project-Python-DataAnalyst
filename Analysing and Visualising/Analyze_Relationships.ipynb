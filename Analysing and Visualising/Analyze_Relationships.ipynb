{
 "cells": [
  {
   "cell_type": "code",
   "execution_count": null,
   "metadata": {},
   "outputs": [],
   "source": [
    "import numpy as np\n",
    "import pandas as pd\n",
    "import matplotlib.pyplot as plt\n",
    "import seaborn as sns; sns.set()"
   ]
  },
  {
   "cell_type": "code",
   "execution_count": null,
   "metadata": {},
   "outputs": [],
   "source": [
    "cols = np.load('../Data/Final/ClashOfClans_cols.npy', allow_pickle=True)\n",
    "arr = np.load('../Data/Final/ClashOfClans.npy', allow_pickle=True)\n",
    "df = pd.DataFrame(arr, columns=cols)\n",
    "df = df[['post_id', 'time', 'post_text', \n",
    "            'images_description', 'shares', 'comments',\n",
    "                'comments_full', 'reaction_count',\n",
    "                'reactions', 'reactors']]\n",
    "df[['shares', 'comments', 'reaction_count']] = df[['shares', 'comments', 'reaction_count']].astype(int)"
   ]
  }
 ],
 "metadata": {
  "language_info": {
   "name": "python"
  }
 },
 "nbformat": 4,
 "nbformat_minor": 2
}
