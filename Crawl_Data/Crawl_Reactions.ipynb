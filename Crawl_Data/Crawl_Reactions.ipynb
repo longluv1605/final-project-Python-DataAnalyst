{
 "cells": [
  {
   "cell_type": "code",
   "execution_count": null,
   "metadata": {},
   "outputs": [],
   "source": [
    "# %pip install facebook_scraper pandas"
   ]
  },
  {
   "cell_type": "code",
   "execution_count": null,
   "metadata": {},
   "outputs": [],
   "source": [
    "from facebook_scraper import *\n",
    "import pandas as pd\n",
    "import time\n",
    "import numpy as np"
   ]
  },
  {
   "cell_type": "code",
   "execution_count": null,
   "metadata": {},
   "outputs": [],
   "source": [
    "FANPAGE_LINK =\"ClashofClans\"\n",
    "FOLDER_PATH = \"../Data/Raw/\"\n",
    "COOKIE_PATH = \"../config/cookies.txt\"\n",
    "\n",
    "PAGES_NUMBER = 30 # Number of pages to crawl"
   ]
  },
  {
   "cell_type": "code",
   "execution_count": null,
   "metadata": {},
   "outputs": [],
   "source": [
    "results = [] \n",
    "start_url = None\n",
    "def handle_pagination_url(url):\n",
    "    global start_url\n",
    "    start_url = url"
   ]
  },
  {
   "cell_type": "code",
   "execution_count": null,
   "metadata": {},
   "outputs": [],
   "source": [
    "set_cookies(COOKIE_PATH)\n",
    "while True:\n",
    "    try:\n",
    "        for post in get_posts(FANPAGE_LINK, pages=PAGES_NUMBER , start_url=start_url, request_url_callback=handle_pagination_url,\n",
    "                              options={\"comments\": False, \"reactions\": True, \n",
    "                                       \"reactors\": False, \"allow_extra_requests\": True}):\n",
    "            results.append(post)\n",
    "        print(\"All done\")\n",
    "        break\n",
    "    except exceptions.TemporarilyBanned:\n",
    "        print(\"Temporarily banned, sleeping for 10m\")\n",
    "        if len(results) > 0:\n",
    "            f = open(\"start_url.txt\", \"a\")\n",
    "            f.write(start_url + \"\\n\")\n",
    "            f.close()\n",
    "        time.sleep(600)\n",
    "        set_cookies(COOKIE_PATH)\n",
    "    except exceptions.AccountDisabled:\n",
    "        print(\"Temporarily banned, sleeping for 10m\")\n",
    "        if len(results) > 0:\n",
    "            f = open(\"start_url.txt\", \"w\")\n",
    "            f.write(start_url + \"\\n\")\n",
    "            f.close()\n",
    "        time.sleep(600)\n",
    "        set_cookies(COOKIE_PATH)"
   ]
  },
  {
   "cell_type": "code",
   "execution_count": null,
   "metadata": {},
   "outputs": [],
   "source": [
    "f = open(\"start_url.txt\", \"w\")\n",
    "f.write(start_url + \"\\n\")\n",
    "f.close()"
   ]
  },
  {
   "cell_type": "code",
   "execution_count": null,
   "metadata": {},
   "outputs": [],
   "source": [
    "# Initialize dataframe to scrape Facebook post\n",
    "post_df_full = pd.DataFrame(columns=results[0].keys(), index=range(len(results)), data=results)\n",
    "# To df\n",
    "path=FOLDER_PATH + 'ClashOfClans_Reactions'\n",
    "post_df_full.to_csv(path + '.csv', index=False)\n",
    "# print(path)\n",
    "post_np_full = np.array(results)\n",
    "np.save(path + \".npy\", post_np_full)"
   ]
  }
 ],
 "metadata": {
  "kernelspec": {
   "display_name": "Python 3",
   "language": "python",
   "name": "python3"
  },
  "language_info": {
   "codemirror_mode": {
    "name": "ipython",
    "version": 3
   },
   "file_extension": ".py",
   "mimetype": "text/x-python",
   "name": "python",
   "nbconvert_exporter": "python",
   "pygments_lexer": "ipython3",
   "version": "3.11.5"
  }
 },
 "nbformat": 4,
 "nbformat_minor": 2
}
