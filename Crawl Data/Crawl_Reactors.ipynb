{
 "cells": [
  {
   "cell_type": "code",
   "execution_count": 11,
   "metadata": {},
   "outputs": [],
   "source": [
    "# %pip install facebook_scraper pandas"
   ]
  },
  {
   "cell_type": "code",
   "execution_count": 12,
   "metadata": {},
   "outputs": [],
   "source": [
    "from facebook_scraper import *\n",
    "import pandas as pd\n",
    "import time\n",
    "import numpy as np"
   ]
  },
  {
   "cell_type": "code",
   "execution_count": 13,
   "metadata": {},
   "outputs": [],
   "source": [
    "FANPAGE_LINK =\"ClashofClans\"  # Fanpage to crawl\n",
    "FOLDER_PATH = \"../Data/Raw/\"  # Folder to save data\n",
    "COOKIE_PATH = \"../config/cookies.txt\"  # Path to cookies file\n",
    "\n",
    "PAGES_NUMBER = 30 # Number of pages to crawl"
   ]
  },
  {
   "cell_type": "code",
   "execution_count": 14,
   "metadata": {},
   "outputs": [],
   "source": [
    "results = [] # List of results\n",
    "start_url = None # Url to start crawling from facebook\n",
    "def handle_pagination_url(url): # Handle pagination url\n",
    "    global start_url\n",
    "    start_url = url"
   ]
  },
  {
   "cell_type": "code",
   "execution_count": 15,
   "metadata": {},
   "outputs": [
    {
     "name": "stdout",
     "output_type": "stream",
     "text": [
      "All done\n"
     ]
    }
   ],
   "source": [
    "set_cookies(COOKIE_PATH)\n",
    "while True:\n",
    "    try:\n",
    "        for post in get_posts(FANPAGE_LINK, pages=PAGES_NUMBER , start_url=start_url, request_url_callback=handle_pagination_url,\n",
    "                              options={\"comments\": False, \"reactions\": False, \n",
    "                                       \"reactors\": True, \"allow_extra_requests\": True}):\n",
    "            results.append(post)\n",
    "        print(\"All done\")\n",
    "        break\n",
    "    except exceptions.TemporarilyBanned:\n",
    "        print(\"Temporarily banned, sleeping for 10m\")\n",
    "        if len(results) > 0:\n",
    "            f = open(\"start_url.txt\", \"a\")\n",
    "            f.write(start_url + \"\\n\")\n",
    "            f.close()\n",
    "        time.sleep(600)\n",
    "        set_cookies(COOKIE_PATH)\n",
    "    except exceptions.AccountDisabled:\n",
    "        print(\"Temporarily banned, sleeping for 10m\")\n",
    "        if len(results) > 0:\n",
    "            f = open(\"../start_url.txt\", \"w\")\n",
    "            f.write(start_url + \"\\n\")\n",
    "            f.close()\n",
    "        time.sleep(600)\n",
    "        set_cookies(COOKIE_PATH)"
   ]
  },
  {
   "cell_type": "code",
   "execution_count": 18,
   "metadata": {},
   "outputs": [],
   "source": [
    "f = open(\"../start_url.txt\", \"w\")\n",
    "f.write(start_url + \"\\n\")\n",
    "f.close()"
   ]
  },
  {
   "cell_type": "code",
   "execution_count": 19,
   "metadata": {},
   "outputs": [],
   "source": [
    "# Initialize dataframe to scrape Facebook post\n",
    "post_df_full = pd.DataFrame(columns=results[0].keys(), index=range(len(results)), data=results)\n",
    "# To df\n",
    "path=FOLDER_PATH + 'ClashOfClans_Reactors'\n",
    "post_df_full.to_csv(path + '.csv', index=False)\n",
    "# print(path)\n",
    "post_np_full = np.array(post_df_full)\n",
    "np.save(path + \".npy\", post_np_full)"
   ]
  }
 ],
 "metadata": {
  "kernelspec": {
   "display_name": "Python 3",
   "language": "python",
   "name": "python3"
  },
  "language_info": {
   "codemirror_mode": {
    "name": "ipython",
    "version": 3
   },
   "file_extension": ".py",
   "mimetype": "text/x-python",
   "name": "python",
   "nbconvert_exporter": "python",
   "pygments_lexer": "ipython3",
   "version": "3.11.5"
  }
 },
 "nbformat": 4,
 "nbformat_minor": 2
}
